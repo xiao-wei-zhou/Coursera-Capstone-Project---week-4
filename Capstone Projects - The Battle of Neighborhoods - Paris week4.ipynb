{
 "cells": [
  {
   "cell_type": "markdown",
   "metadata": {},
   "source": [
    "# Paris Housing price Analysis"
   ]
  },
  {
   "cell_type": "markdown",
   "metadata": {},
   "source": [
    "### 1. Business background \n",
    "\n",
    "Paris is the most populous city of France and the 7th most dense capital in the world, with an estimated population of 2,187,526 habitants in an area of 105 square kilometres. As one of the most famous world centers of fashion, luxury, arts, culture, and finance etc, it welcomes people from all over the world every year. To rent or buy a property in Paris is not cheap. Paris ranks as the 5th most expensive city to rent, right after HK, San Francisco,New York City and Zurich. Whether we can still find some nice appratments with moderate rent prices in a convenient and conforatble neighborhood of Paris? The answer is sure, but we need a little time to do some research to find the right one we want.\n",
    "\n",
    "*resources:\n",
    "http://www.leparisien.fr/elections/municipales/municipales-paris-est-elle-vraiment-plus-dense-que-new-york-et-new-delhi-20-01-2020-8239902.php\n",
    "https://www.insee.fr/fr/statistiques/1893198\n",
    "https://www.businessinsider.com/most-expensive-cities-worldwide-to-rent-an-apartment-2019-5?IR=T#5-paris-france-21"
   ]
  },
  {
   "cell_type": "markdown",
   "metadata": {},
   "source": [
    "### 2. Business problems\n",
    "\n",
    "In this project I am going to explore and visualize the data of the neighborhoods of Paris to provide references to those new comers who are looking for an ideal appartment in Paris, wishing I could help them to make wise and effective decisions."
   ]
  },
  {
   "cell_type": "markdown",
   "metadata": {},
   "source": [
    "### 3. Data - The necessary information needed by the investing group will come from the following sources:\n",
    "\n",
    "Open data resource of 20 administrative districts of Paris\n",
    "https://opendata.paris.fr/api/records/1.0/search/?dataset=arrondissements&q=\n",
    "\n",
    "Open data resource concernning the renting of each district of the city\n",
    "https://parisdata.opendatasoft.com/api/records/1.0/search/?dataset=logement-encadrement-des-loyers&q=&facet=id_zone&facet=nom_quartier&facet=piece&facet=epoque&facet=meuble_txt\n",
    "\n",
    "Foursquare API, I will be able to retrieve the features of venues in each borough. This will help me to evaluate the major functions or living prefereces of each n\n"
   ]
  },
  {
   "cell_type": "markdown",
   "metadata": {},
   "source": [
    "### 4. Methodology\n",
    "\n",
    "1. crawl the data of Paris neighborhoods, including PostalCode, name of the neignborhoods and create a dataframe to process the data\n",
    "2. get the lat and log of each neighborhood and add two columns in the previous dataframe containing the geo data.\n",
    "3. use Foursquare to get the information concerning venues of each neighborhood. Try to get the top 100 venues with high frequency in each neighborhood.\n",
    "4. explore the dataset to figure out the categories of venues.\n",
    "5. use one hot encoding to get the frequency of each category.\n",
    "6. get the top 10 venues categories nearby the profitable real estate investements\n",
    "7. use k-means to cluster the potential venues into 5 groups and get the k-means labels.\n",
    "8. explore the segamentation and clusting of Paris.\n",
    "9. use folium to visualize the clusters of Paris."
   ]
  }
 ],
 "metadata": {
  "kernelspec": {
   "display_name": "Python 3",
   "language": "python",
   "name": "python3"
  },
  "language_info": {
   "codemirror_mode": {
    "name": "ipython",
    "version": 3
   },
   "file_extension": ".py",
   "mimetype": "text/x-python",
   "name": "python",
   "nbconvert_exporter": "python",
   "pygments_lexer": "ipython3",
   "version": "3.7.7"
  }
 },
 "nbformat": 4,
 "nbformat_minor": 4
}
